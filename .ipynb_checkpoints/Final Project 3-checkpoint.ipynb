{
 "cells": [
  {
   "cell_type": "markdown",
   "id": "739ceee5",
   "metadata": {},
   "source": [
    "# Final Project"
   ]
  },
  {
   "cell_type": "code",
   "execution_count": 34,
   "id": "a76b0478",
   "metadata": {},
   "outputs": [],
   "source": [
    "# Topic: Analysing UFO Sightings Around the World.\n",
    "\n",
    "# Contributors: Riya Kukadia (117260557) and Amartya Patel (117183986)"
   ]
  },
  {
   "cell_type": "markdown",
   "id": "9fbc57b0",
   "metadata": {},
   "source": [
    "# Introduction"
   ]
  },
  {
   "cell_type": "code",
   "execution_count": null,
   "id": "670dd19b",
   "metadata": {},
   "outputs": [],
   "source": []
  },
  {
   "cell_type": "code",
   "execution_count": 128,
   "id": "80442599",
   "metadata": {},
   "outputs": [],
   "source": [
    "# First and foremost, we simply import necessary libraries and tools, that we might/will need for the completeion of this\n",
    "# project.\n",
    "\n",
    "import pandas as pd\n",
    "import numpy as np\n",
    "import scipy\n",
    "import matplotlib\n",
    "import matplotlib.pyplot as plt\n",
    "import seaborn as sns\n",
    "import geopandas\n",
    "import sys\n",
    "import io"
   ]
  },
  {
   "cell_type": "code",
   "execution_count": 129,
   "id": "38dfd579",
   "metadata": {},
   "outputs": [
    {
     "data": {
      "text/html": [
       "<div>\n",
       "<style scoped>\n",
       "    .dataframe tbody tr th:only-of-type {\n",
       "        vertical-align: middle;\n",
       "    }\n",
       "\n",
       "    .dataframe tbody tr th {\n",
       "        vertical-align: top;\n",
       "    }\n",
       "\n",
       "    .dataframe thead th {\n",
       "        text-align: right;\n",
       "    }\n",
       "</style>\n",
       "<table border=\"1\" class=\"dataframe\">\n",
       "  <thead>\n",
       "    <tr style=\"text-align: right;\">\n",
       "      <th></th>\n",
       "      <th>ph</th>\n",
       "      <th>Hardness</th>\n",
       "      <th>Solids</th>\n",
       "      <th>Chloramines</th>\n",
       "      <th>Sulfate</th>\n",
       "      <th>Conductivity</th>\n",
       "      <th>Organic_carbon</th>\n",
       "      <th>Trihalomethanes</th>\n",
       "      <th>Turbidity</th>\n",
       "      <th>Potability</th>\n",
       "    </tr>\n",
       "  </thead>\n",
       "  <tbody>\n",
       "    <tr>\n",
       "      <th>0</th>\n",
       "      <td>NaN</td>\n",
       "      <td>204.890455</td>\n",
       "      <td>20791.318981</td>\n",
       "      <td>7.300212</td>\n",
       "      <td>368.516441</td>\n",
       "      <td>564.308654</td>\n",
       "      <td>10.379783</td>\n",
       "      <td>86.990970</td>\n",
       "      <td>2.963135</td>\n",
       "      <td>0</td>\n",
       "    </tr>\n",
       "    <tr>\n",
       "      <th>1</th>\n",
       "      <td>3.716080</td>\n",
       "      <td>129.422921</td>\n",
       "      <td>18630.057858</td>\n",
       "      <td>6.635246</td>\n",
       "      <td>NaN</td>\n",
       "      <td>592.885359</td>\n",
       "      <td>15.180013</td>\n",
       "      <td>56.329076</td>\n",
       "      <td>4.500656</td>\n",
       "      <td>0</td>\n",
       "    </tr>\n",
       "    <tr>\n",
       "      <th>2</th>\n",
       "      <td>8.099124</td>\n",
       "      <td>224.236259</td>\n",
       "      <td>19909.541732</td>\n",
       "      <td>9.275884</td>\n",
       "      <td>NaN</td>\n",
       "      <td>418.606213</td>\n",
       "      <td>16.868637</td>\n",
       "      <td>66.420093</td>\n",
       "      <td>3.055934</td>\n",
       "      <td>0</td>\n",
       "    </tr>\n",
       "    <tr>\n",
       "      <th>3</th>\n",
       "      <td>8.316766</td>\n",
       "      <td>214.373394</td>\n",
       "      <td>22018.417441</td>\n",
       "      <td>8.059332</td>\n",
       "      <td>356.886136</td>\n",
       "      <td>363.266516</td>\n",
       "      <td>18.436524</td>\n",
       "      <td>100.341674</td>\n",
       "      <td>4.628771</td>\n",
       "      <td>0</td>\n",
       "    </tr>\n",
       "    <tr>\n",
       "      <th>4</th>\n",
       "      <td>9.092223</td>\n",
       "      <td>181.101509</td>\n",
       "      <td>17978.986339</td>\n",
       "      <td>6.546600</td>\n",
       "      <td>310.135738</td>\n",
       "      <td>398.410813</td>\n",
       "      <td>11.558279</td>\n",
       "      <td>31.997993</td>\n",
       "      <td>4.075075</td>\n",
       "      <td>0</td>\n",
       "    </tr>\n",
       "  </tbody>\n",
       "</table>\n",
       "</div>"
      ],
      "text/plain": [
       "         ph    Hardness        Solids  Chloramines     Sulfate  Conductivity  \\\n",
       "0       NaN  204.890455  20791.318981     7.300212  368.516441    564.308654   \n",
       "1  3.716080  129.422921  18630.057858     6.635246         NaN    592.885359   \n",
       "2  8.099124  224.236259  19909.541732     9.275884         NaN    418.606213   \n",
       "3  8.316766  214.373394  22018.417441     8.059332  356.886136    363.266516   \n",
       "4  9.092223  181.101509  17978.986339     6.546600  310.135738    398.410813   \n",
       "\n",
       "   Organic_carbon  Trihalomethanes  Turbidity  Potability  \n",
       "0       10.379783        86.990970   2.963135           0  \n",
       "1       15.180013        56.329076   4.500656           0  \n",
       "2       16.868637        66.420093   3.055934           0  \n",
       "3       18.436524       100.341674   4.628771           0  \n",
       "4       11.558279        31.997993   4.075075           0  "
      ]
     },
     "execution_count": 129,
     "metadata": {},
     "output_type": "execute_result"
    }
   ],
   "source": [
    "df = pd.read_csv('water_potability.csv', low_memory=False)\n",
    "\n",
    "df.head()"
   ]
  },
  {
   "cell_type": "code",
   "execution_count": null,
   "id": "e0bc8f41",
   "metadata": {},
   "outputs": [],
   "source": []
  },
  {
   "cell_type": "code",
   "execution_count": 130,
   "id": "6e2fd22d",
   "metadata": {},
   "outputs": [
    {
     "name": "stdout",
     "output_type": "stream",
     "text": [
      "<class 'pandas.core.frame.DataFrame'>\n",
      "RangeIndex: 3276 entries, 0 to 3275\n",
      "Data columns (total 10 columns):\n",
      " #   Column           Non-Null Count  Dtype  \n",
      "---  ------           --------------  -----  \n",
      " 0   ph               2785 non-null   float64\n",
      " 1   Hardness         3276 non-null   float64\n",
      " 2   Solids           3276 non-null   float64\n",
      " 3   Chloramines      3276 non-null   float64\n",
      " 4   Sulfate          2495 non-null   float64\n",
      " 5   Conductivity     3276 non-null   float64\n",
      " 6   Organic_carbon   3276 non-null   float64\n",
      " 7   Trihalomethanes  3114 non-null   float64\n",
      " 8   Turbidity        3276 non-null   float64\n",
      " 9   Potability       3276 non-null   int64  \n",
      "dtypes: float64(9), int64(1)\n",
      "memory usage: 256.1 KB\n"
     ]
    }
   ],
   "source": [
    "df.info()"
   ]
  },
  {
   "cell_type": "code",
   "execution_count": 131,
   "id": "f1310366",
   "metadata": {},
   "outputs": [
    {
     "data": {
      "text/plain": [
       "(3276, 10)"
      ]
     },
     "execution_count": 131,
     "metadata": {},
     "output_type": "execute_result"
    }
   ],
   "source": [
    "df.shape"
   ]
  },
  {
   "cell_type": "markdown",
   "id": "fa9195da",
   "metadata": {},
   "source": [
    "Let's get a better understanding of what exactly is missing"
   ]
  },
  {
   "cell_type": "code",
   "execution_count": 132,
   "id": "bb845c3e",
   "metadata": {},
   "outputs": [
    {
     "data": {
      "image/png": "[encoded data removed]",
      "text/plain": [
       "<Figure size 432x288 with 1 Axes>"
      ]
     },
     "metadata": {
      "needs_background": "light"
     },
     "output_type": "display_data"
    }
   ],
   "source": [
    "df.isnull().mean().plot.bar() \n",
    "plt.ylabel('Percentage of missing values') \n",
    "plt.xlabel('Values') \n",
    "plt.title('Missing Data');"
   ]
  },
  {
   "cell_type": "markdown",
   "id": "d8ce9b66",
   "metadata": {},
   "source": [
    "So we can see that we have a lot of missing values in the sulphate, ph and trihalomethane columns. \n",
    "\n",
    "Our options are- \n",
    "\n",
    "1. filling them in with the mean of the column \n",
    "\n",
    "2. padding them in with 0s\n",
    "\n",
    "However, since these values will help us decide if the water is potable or not, 0s might skew the results too much. Filling in nans with the mean/median may also cause inaccuracies, so for the purpose of our project, we drop nans\n"
   ]
  },
  {
   "cell_type": "code",
   "execution_count": 133,
   "id": "b32538c5",
   "metadata": {},
   "outputs": [
    {
     "data": {
      "text/plain": [
       "(2011, 10)"
      ]
     },
     "execution_count": 133,
     "metadata": {},
     "output_type": "execute_result"
    }
   ],
   "source": [
    "df = df.dropna()\n",
    "df.shape"
   ]
  },
  {
   "cell_type": "code",
   "execution_count": 134,
   "id": "ebf85fb9",
   "metadata": {},
   "outputs": [
    {
     "name": "stderr",
     "output_type": "stream",
     "text": [
      "/Users/riyakukadia/opt/anaconda3/lib/python3.9/site-packages/seaborn/_decorators.py:36: FutureWarning: Pass the following variable as a keyword arg: x. From version 0.12, the only valid positional argument will be `data`, and passing other arguments without an explicit keyword will result in an error or misinterpretation.\n",
      "  warnings.warn(\n"
     ]
    },
    {
     "data": {
      "text/plain": [
       "<AxesSubplot:xlabel='Potability', ylabel='count'>"
      ]
     },
     "execution_count": 134,
     "metadata": {},
     "output_type": "execute_result"
    },
    {
     "data": {
      "image/png": "[encoded data removed]",
      "text/plain": [
       "<Figure size 432x288 with 1 Axes>"
      ]
     },
     "metadata": {
      "needs_background": "light"
     },
     "output_type": "display_data"
    }
   ],
   "source": [
    "#Countplot for the 'Potability' column\n",
    "\n",
    "sns.countplot(df['Potability'])"
   ]
  },
  {
   "cell_type": "code",
   "execution_count": 135,
   "id": "d872b16d",
   "metadata": {},
   "outputs": [
    {
     "data": {
      "text/html": [
       "<div>\n",
       "<style scoped>\n",
       "    .dataframe tbody tr th:only-of-type {\n",
       "        vertical-align: middle;\n",
       "    }\n",
       "\n",
       "    .dataframe tbody tr th {\n",
       "        vertical-align: top;\n",
       "    }\n",
       "\n",
       "    .dataframe thead th {\n",
       "        text-align: right;\n",
       "    }\n",
       "</style>\n",
       "<table border=\"1\" class=\"dataframe\">\n",
       "  <thead>\n",
       "    <tr style=\"text-align: right;\">\n",
       "      <th></th>\n",
       "      <th>ph</th>\n",
       "      <th>Hardness</th>\n",
       "      <th>Solids</th>\n",
       "      <th>Chloramines</th>\n",
       "      <th>Sulfate</th>\n",
       "      <th>Conductivity</th>\n",
       "      <th>Organic_carbon</th>\n",
       "      <th>Trihalomethanes</th>\n",
       "      <th>Turbidity</th>\n",
       "      <th>Potability</th>\n",
       "    </tr>\n",
       "  </thead>\n",
       "  <tbody>\n",
       "    <tr>\n",
       "      <th>count</th>\n",
       "      <td>2011.000000</td>\n",
       "      <td>2011.000000</td>\n",
       "      <td>2011.000000</td>\n",
       "      <td>2011.000000</td>\n",
       "      <td>2011.000000</td>\n",
       "      <td>2011.000000</td>\n",
       "      <td>2011.000000</td>\n",
       "      <td>2011.000000</td>\n",
       "      <td>2011.000000</td>\n",
       "      <td>2011.000000</td>\n",
       "    </tr>\n",
       "    <tr>\n",
       "      <th>mean</th>\n",
       "      <td>7.085990</td>\n",
       "      <td>195.968072</td>\n",
       "      <td>21917.441374</td>\n",
       "      <td>7.134338</td>\n",
       "      <td>333.224672</td>\n",
       "      <td>426.526409</td>\n",
       "      <td>14.357709</td>\n",
       "      <td>66.400859</td>\n",
       "      <td>3.969729</td>\n",
       "      <td>0.403282</td>\n",
       "    </tr>\n",
       "    <tr>\n",
       "      <th>std</th>\n",
       "      <td>1.573337</td>\n",
       "      <td>32.635085</td>\n",
       "      <td>8642.239815</td>\n",
       "      <td>1.584820</td>\n",
       "      <td>41.205172</td>\n",
       "      <td>80.712572</td>\n",
       "      <td>3.324959</td>\n",
       "      <td>16.077109</td>\n",
       "      <td>0.780346</td>\n",
       "      <td>0.490678</td>\n",
       "    </tr>\n",
       "    <tr>\n",
       "      <th>min</th>\n",
       "      <td>0.227499</td>\n",
       "      <td>73.492234</td>\n",
       "      <td>320.942611</td>\n",
       "      <td>1.390871</td>\n",
       "      <td>129.000000</td>\n",
       "      <td>201.619737</td>\n",
       "      <td>2.200000</td>\n",
       "      <td>8.577013</td>\n",
       "      <td>1.450000</td>\n",
       "      <td>0.000000</td>\n",
       "    </tr>\n",
       "    <tr>\n",
       "      <th>25%</th>\n",
       "      <td>6.089723</td>\n",
       "      <td>176.744938</td>\n",
       "      <td>15615.665390</td>\n",
       "      <td>6.138895</td>\n",
       "      <td>307.632511</td>\n",
       "      <td>366.680307</td>\n",
       "      <td>12.124105</td>\n",
       "      <td>55.952664</td>\n",
       "      <td>3.442915</td>\n",
       "      <td>0.000000</td>\n",
       "    </tr>\n",
       "    <tr>\n",
       "      <th>50%</th>\n",
       "      <td>7.027297</td>\n",
       "      <td>197.191839</td>\n",
       "      <td>20933.512750</td>\n",
       "      <td>7.143907</td>\n",
       "      <td>332.232177</td>\n",
       "      <td>423.455906</td>\n",
       "      <td>14.322019</td>\n",
       "      <td>66.542198</td>\n",
       "      <td>3.968177</td>\n",
       "      <td>0.000000</td>\n",
       "    </tr>\n",
       "    <tr>\n",
       "      <th>75%</th>\n",
       "      <td>8.052969</td>\n",
       "      <td>216.441070</td>\n",
       "      <td>27182.587067</td>\n",
       "      <td>8.109726</td>\n",
       "      <td>359.330555</td>\n",
       "      <td>482.373169</td>\n",
       "      <td>16.683049</td>\n",
       "      <td>77.291925</td>\n",
       "      <td>4.514175</td>\n",
       "      <td>1.000000</td>\n",
       "    </tr>\n",
       "    <tr>\n",
       "      <th>max</th>\n",
       "      <td>14.000000</td>\n",
       "      <td>317.338124</td>\n",
       "      <td>56488.672413</td>\n",
       "      <td>13.127000</td>\n",
       "      <td>481.030642</td>\n",
       "      <td>753.342620</td>\n",
       "      <td>27.006707</td>\n",
       "      <td>124.000000</td>\n",
       "      <td>6.494749</td>\n",
       "      <td>1.000000</td>\n",
       "    </tr>\n",
       "  </tbody>\n",
       "</table>\n",
       "</div>"
      ],
      "text/plain": [
       "                ph     Hardness        Solids  Chloramines      Sulfate  \\\n",
       "count  2011.000000  2011.000000   2011.000000  2011.000000  2011.000000   \n",
       "mean      7.085990   195.968072  21917.441374     7.134338   333.224672   \n",
       "std       1.573337    32.635085   8642.239815     1.584820    41.205172   \n",
       "min       0.227499    73.492234    320.942611     1.390871   129.000000   \n",
       "25%       6.089723   176.744938  15615.665390     6.138895   307.632511   \n",
       "50%       7.027297   197.191839  20933.512750     7.143907   332.232177   \n",
       "75%       8.052969   216.441070  27182.587067     8.109726   359.330555   \n",
       "max      14.000000   317.338124  56488.672413    13.127000   481.030642   \n",
       "\n",
       "       Conductivity  Organic_carbon  Trihalomethanes    Turbidity   Potability  \n",
       "count   2011.000000     2011.000000      2011.000000  2011.000000  2011.000000  \n",
       "mean     426.526409       14.357709        66.400859     3.969729     0.403282  \n",
       "std       80.712572        3.324959        16.077109     0.780346     0.490678  \n",
       "min      201.619737        2.200000         8.577013     1.450000     0.000000  \n",
       "25%      366.680307       12.124105        55.952664     3.442915     0.000000  \n",
       "50%      423.455906       14.322019        66.542198     3.968177     0.000000  \n",
       "75%      482.373169       16.683049        77.291925     4.514175     1.000000  \n",
       "max      753.342620       27.006707       124.000000     6.494749     1.000000  "
      ]
     },
     "execution_count": 135,
     "metadata": {},
     "output_type": "execute_result"
    }
   ],
   "source": [
    "df.describe()"
   ]
  },
  {
   "cell_type": "markdown",
   "id": "7711d66d",
   "metadata": {},
   "source": [
    "# Step 2: EDA"
   ]
  },
  {
   "cell_type": "markdown",
   "id": "5ef3c959",
   "metadata": {},
   "source": [
    "Lets visualize which values are different for potable vs non potable water using box plots"
   ]
  },
  {
   "cell_type": "code",
   "execution_count": 136,
   "id": "ee4d0a96",
   "metadata": {},
   "outputs": [
    {
     "data": {
      "text/plain": [
       "<AxesSubplot:xlabel='Potability', ylabel='Solids'>"
      ]
     },
     "execution_count": 136,
     "metadata": {},
     "output_type": "execute_result"
    },
    {
     "data": {
      "image/png": "[encoded data removed]",
      "text/plain": [
       "<Figure size 1296x1296 with 3 Axes>"
      ]
     },
     "metadata": {
      "needs_background": "light"
     },
     "output_type": "display_data"
    }
   ],
   "source": [
    "plt.figure(figsize = (18,18))\n",
    "plt.subplot(3,3, 1)\n",
    "sns.boxplot(x='Potability', y='ph', data=df)\n",
    "\n",
    "plt.subplot(3,3, 2)\n",
    "sns.boxplot(x='Potability', y='Hardness', data=df)\n",
    "\n",
    "plt.subplot(3,3, 3)\n",
    "sns.boxplot(x='Potability', y='Solids', data=df)"
   ]
  },
  {
   "cell_type": "code",
   "execution_count": 137,
   "id": "362f19ae",
   "metadata": {},
   "outputs": [
    {
     "data": {
      "text/plain": [
       "<AxesSubplot:xlabel='Potability', ylabel='Conductivity'>"
      ]
     },
     "execution_count": 137,
     "metadata": {},
     "output_type": "execute_result"
    },
    {
     "data": {
      "image/png": "[encoded data removed]",
      "text/plain": [
       "<Figure size 1296x1296 with 3 Axes>"
      ]
     },
     "metadata": {
      "needs_background": "light"
     },
     "output_type": "display_data"
    }
   ],
   "source": [
    "plt.figure(figsize = (18,18))\n",
    "plt.subplot(3,3, 1)\n",
    "sns.boxplot(x='Potability', y='Chloramines', data=df)\n",
    "\n",
    "plt.subplot(3,3, 2)\n",
    "sns.boxplot(x='Potability', y='Sulfate', data=df)\n",
    "\n",
    "plt.subplot(3,3, 3)\n",
    "sns.boxplot(x='Potability', y='Conductivity', data=df)"
   ]
  },
  {
   "cell_type": "code",
   "execution_count": 138,
   "id": "b9baaeed",
   "metadata": {},
   "outputs": [
    {
     "data": {
      "text/plain": [
       "<AxesSubplot:xlabel='Potability', ylabel='Turbidity'>"
      ]
     },
     "execution_count": 138,
     "metadata": {},
     "output_type": "execute_result"
    },
    {
     "data": {
      "image/png": "[encoded data removed]",
      "text/plain": [
       "<Figure size 1296x1296 with 3 Axes>"
      ]
     },
     "metadata": {
      "needs_background": "light"
     },
     "output_type": "display_data"
    }
   ],
   "source": [
    "plt.figure(figsize = (18,18))\n",
    "plt.subplot(3,3, 1)\n",
    "sns.boxplot(x='Potability', y='Organic_carbon', data=df)\n",
    "\n",
    "plt.subplot(3,3, 2)\n",
    "sns.boxplot(x='Potability', y='Trihalomethanes', data=df)\n",
    "\n",
    "plt.subplot(3,3, 3)\n",
    "sns.boxplot(x='Potability', y='Turbidity', data=df)"
   ]
  },
  {
   "cell_type": "markdown",
   "id": "a562f79b",
   "metadata": {},
   "source": [
    "So, we can see that there are slight differences between the ph, sulfate, hardness and chloramine values of potable vs. non potable water, but no clear correlations\n",
    "Let's use a heatmap to determine any correlations better\n"
   ]
  },
  {
   "cell_type": "code",
   "execution_count": 159,
   "id": "3817eb0c",
   "metadata": {},
   "outputs": [
    {
     "data": {
      "text/plain": [
       "<AxesSubplot:>"
      ]
     },
     "execution_count": 159,
     "metadata": {},
     "output_type": "execute_result"
    },
    {
     "data": {
      "image/png": "[encoded data removed]",
      "text/plain": [
       "<Figure size 720x576 with 2 Axes>"
      ]
     },
     "metadata": {
      "needs_background": "light"
     },
     "output_type": "display_data"
    }
   ],
   "source": [
    "fig, ax = plt.subplots(figsize=(10, 8))\n",
    "sns.heatmap(df.corr(), cmap=\"YlGnBu\")"
   ]
  },
  {
   "cell_type": "markdown",
   "id": "b1a79ab6",
   "metadata": {},
   "source": [
    "From the heatplot too we can see that there are no strong relationships between variables"
   ]
  },
  {
   "cell_type": "code",
   "execution_count": null,
   "id": "c13c8eb8",
   "metadata": {},
   "outputs": [],
   "source": []
  },
  {
   "cell_type": "code",
   "execution_count": 140,
   "id": "cca22fe2",
   "metadata": {},
   "outputs": [
    {
     "data": {
      "text/html": [
       "<div>\n",
       "<style scoped>\n",
       "    .dataframe tbody tr th:only-of-type {\n",
       "        vertical-align: middle;\n",
       "    }\n",
       "\n",
       "    .dataframe tbody tr th {\n",
       "        vertical-align: top;\n",
       "    }\n",
       "\n",
       "    .dataframe thead th {\n",
       "        text-align: right;\n",
       "    }\n",
       "</style>\n",
       "<table border=\"1\" class=\"dataframe\">\n",
       "  <thead>\n",
       "    <tr style=\"text-align: right;\">\n",
       "      <th></th>\n",
       "      <th>ph</th>\n",
       "      <th>Hardness</th>\n",
       "      <th>Solids</th>\n",
       "      <th>Chloramines</th>\n",
       "      <th>Sulfate</th>\n",
       "      <th>Conductivity</th>\n",
       "      <th>Organic_carbon</th>\n",
       "      <th>Trihalomethanes</th>\n",
       "      <th>Turbidity</th>\n",
       "      <th>Potability</th>\n",
       "    </tr>\n",
       "  </thead>\n",
       "  <tbody>\n",
       "    <tr>\n",
       "      <th>3</th>\n",
       "      <td>8.316766</td>\n",
       "      <td>214.373394</td>\n",
       "      <td>22018.417441</td>\n",
       "      <td>8.059332</td>\n",
       "      <td>356.886136</td>\n",
       "      <td>363.266516</td>\n",
       "      <td>18.436524</td>\n",
       "      <td>100.341674</td>\n",
       "      <td>4.628771</td>\n",
       "      <td>0</td>\n",
       "    </tr>\n",
       "    <tr>\n",
       "      <th>4</th>\n",
       "      <td>9.092223</td>\n",
       "      <td>181.101509</td>\n",
       "      <td>17978.986339</td>\n",
       "      <td>6.546600</td>\n",
       "      <td>310.135738</td>\n",
       "      <td>398.410813</td>\n",
       "      <td>11.558279</td>\n",
       "      <td>31.997993</td>\n",
       "      <td>4.075075</td>\n",
       "      <td>0</td>\n",
       "    </tr>\n",
       "    <tr>\n",
       "      <th>5</th>\n",
       "      <td>5.584087</td>\n",
       "      <td>188.313324</td>\n",
       "      <td>28748.687739</td>\n",
       "      <td>7.544869</td>\n",
       "      <td>326.678363</td>\n",
       "      <td>280.467916</td>\n",
       "      <td>8.399735</td>\n",
       "      <td>54.917862</td>\n",
       "      <td>2.559708</td>\n",
       "      <td>0</td>\n",
       "    </tr>\n",
       "    <tr>\n",
       "      <th>6</th>\n",
       "      <td>10.223862</td>\n",
       "      <td>248.071735</td>\n",
       "      <td>28749.716544</td>\n",
       "      <td>7.513408</td>\n",
       "      <td>393.663396</td>\n",
       "      <td>283.651634</td>\n",
       "      <td>13.789695</td>\n",
       "      <td>84.603556</td>\n",
       "      <td>2.672989</td>\n",
       "      <td>0</td>\n",
       "    </tr>\n",
       "    <tr>\n",
       "      <th>7</th>\n",
       "      <td>8.635849</td>\n",
       "      <td>203.361523</td>\n",
       "      <td>13672.091764</td>\n",
       "      <td>4.563009</td>\n",
       "      <td>303.309771</td>\n",
       "      <td>474.607645</td>\n",
       "      <td>12.363817</td>\n",
       "      <td>62.798309</td>\n",
       "      <td>4.401425</td>\n",
       "      <td>0</td>\n",
       "    </tr>\n",
       "    <tr>\n",
       "      <th>...</th>\n",
       "      <td>...</td>\n",
       "      <td>...</td>\n",
       "      <td>...</td>\n",
       "      <td>...</td>\n",
       "      <td>...</td>\n",
       "      <td>...</td>\n",
       "      <td>...</td>\n",
       "      <td>...</td>\n",
       "      <td>...</td>\n",
       "      <td>...</td>\n",
       "    </tr>\n",
       "    <tr>\n",
       "      <th>3267</th>\n",
       "      <td>8.989900</td>\n",
       "      <td>215.047358</td>\n",
       "      <td>15921.412018</td>\n",
       "      <td>6.297312</td>\n",
       "      <td>312.931022</td>\n",
       "      <td>390.410231</td>\n",
       "      <td>9.899115</td>\n",
       "      <td>55.069304</td>\n",
       "      <td>4.613843</td>\n",
       "      <td>1</td>\n",
       "    </tr>\n",
       "    <tr>\n",
       "      <th>3268</th>\n",
       "      <td>6.702547</td>\n",
       "      <td>207.321086</td>\n",
       "      <td>17246.920347</td>\n",
       "      <td>7.708117</td>\n",
       "      <td>304.510230</td>\n",
       "      <td>329.266002</td>\n",
       "      <td>16.217303</td>\n",
       "      <td>28.878601</td>\n",
       "      <td>3.442983</td>\n",
       "      <td>1</td>\n",
       "    </tr>\n",
       "    <tr>\n",
       "      <th>3269</th>\n",
       "      <td>11.491011</td>\n",
       "      <td>94.812545</td>\n",
       "      <td>37188.826022</td>\n",
       "      <td>9.263166</td>\n",
       "      <td>258.930600</td>\n",
       "      <td>439.893618</td>\n",
       "      <td>16.172755</td>\n",
       "      <td>41.558501</td>\n",
       "      <td>4.369264</td>\n",
       "      <td>1</td>\n",
       "    </tr>\n",
       "    <tr>\n",
       "      <th>3270</th>\n",
       "      <td>6.069616</td>\n",
       "      <td>186.659040</td>\n",
       "      <td>26138.780191</td>\n",
       "      <td>7.747547</td>\n",
       "      <td>345.700257</td>\n",
       "      <td>415.886955</td>\n",
       "      <td>12.067620</td>\n",
       "      <td>60.419921</td>\n",
       "      <td>3.669712</td>\n",
       "      <td>1</td>\n",
       "    </tr>\n",
       "    <tr>\n",
       "      <th>3271</th>\n",
       "      <td>4.668102</td>\n",
       "      <td>193.681735</td>\n",
       "      <td>47580.991603</td>\n",
       "      <td>7.166639</td>\n",
       "      <td>359.948574</td>\n",
       "      <td>526.424171</td>\n",
       "      <td>13.894419</td>\n",
       "      <td>66.687695</td>\n",
       "      <td>4.435821</td>\n",
       "      <td>1</td>\n",
       "    </tr>\n",
       "  </tbody>\n",
       "</table>\n",
       "<p>2011 rows × 10 columns</p>\n",
       "</div>"
      ],
      "text/plain": [
       "             ph    Hardness        Solids  Chloramines     Sulfate  \\\n",
       "3      8.316766  214.373394  22018.417441     8.059332  356.886136   \n",
       "4      9.092223  181.101509  17978.986339     6.546600  310.135738   \n",
       "5      5.584087  188.313324  28748.687739     7.544869  326.678363   \n",
       "6     10.223862  248.071735  28749.716544     7.513408  393.663396   \n",
       "7      8.635849  203.361523  13672.091764     4.563009  303.309771   \n",
       "...         ...         ...           ...          ...         ...   \n",
       "3267   8.989900  215.047358  15921.412018     6.297312  312.931022   \n",
       "3268   6.702547  207.321086  17246.920347     7.708117  304.510230   \n",
       "3269  11.491011   94.812545  37188.826022     9.263166  258.930600   \n",
       "3270   6.069616  186.659040  26138.780191     7.747547  345.700257   \n",
       "3271   4.668102  193.681735  47580.991603     7.166639  359.948574   \n",
       "\n",
       "      Conductivity  Organic_carbon  Trihalomethanes  Turbidity  Potability  \n",
       "3       363.266516       18.436524       100.341674   4.628771           0  \n",
       "4       398.410813       11.558279        31.997993   4.075075           0  \n",
       "5       280.467916        8.399735        54.917862   2.559708           0  \n",
       "6       283.651634       13.789695        84.603556   2.672989           0  \n",
       "7       474.607645       12.363817        62.798309   4.401425           0  \n",
       "...            ...             ...              ...        ...         ...  \n",
       "3267    390.410231        9.899115        55.069304   4.613843           1  \n",
       "3268    329.266002       16.217303        28.878601   3.442983           1  \n",
       "3269    439.893618       16.172755        41.558501   4.369264           1  \n",
       "3270    415.886955       12.067620        60.419921   3.669712           1  \n",
       "3271    526.424171       13.894419        66.687695   4.435821           1  \n",
       "\n",
       "[2011 rows x 10 columns]"
      ]
     },
     "execution_count": 140,
     "metadata": {},
     "output_type": "execute_result"
    }
   ],
   "source": [
    "df"
   ]
  },
  {
   "cell_type": "markdown",
   "id": "54a49cab",
   "metadata": {},
   "source": [
    "# Hypothesis Testing:"
   ]
  },
  {
   "cell_type": "markdown",
   "id": "764f44f2",
   "metadata": {},
   "source": [
    "All variables in the data are strongly correlated to the potability of water, i.e. all variables have a strong impact on determining whether water is potable or not"
   ]
  },
  {
   "cell_type": "code",
   "execution_count": 168,
   "id": "e693c5fc",
   "metadata": {},
   "outputs": [
    {
     "data": {
      "text/plain": [
       "{'ph': 0.5297797418282144,\n",
       " 'Hardness': 0.6998145997007005,\n",
       " 'Solids': 0.11633127125962607,\n",
       " 'Chloramines': 0.3314569572193391,\n",
       " 'Sulfate': 0.6867588303366772,\n",
       " 'Conductivity': 0.42376258895464713,\n",
       " 'Organic_carbon': 0.5298310038190563,\n",
       " 'Trihalomethanes': 0.8685422511859388,\n",
       " 'Turbidity': 0.31448141304021615,\n",
       " 'Potability': 0.0}"
      ]
     },
     "execution_count": 168,
     "metadata": {},
     "output_type": "execute_result"
    }
   ],
   "source": [
    "p_values = {}\n",
    "for feature in df.columns:\n",
    "    corr, p_value = scipy.stats.spearmanr(df[feature], df['Potability'])\n",
    "    p_values[feature] = p_value \n",
    "p_values"
   ]
  },
  {
   "cell_type": "markdown",
   "id": "7d39fd28",
   "metadata": {},
   "source": [
    "From https://www.simplilearn.com/tutorials/statistics-tutorial/spearmans-rank-correlation - \n",
    "\n",
    "Spearman’s rank correlation measures the strength and direction of association between two ranked variables. It basically gives the measure of monotonicity of the relation between two variables i.e. how well the relationship between two variables could be represented using a monotonic function.\n",
    "\n",
    "The spearman test gives a high p-value for Hardness, Sulfates, Trihalomethanes indicating a somewhat strong corelation between them and Potability\n"
   ]
  },
  {
   "cell_type": "markdown",
   "id": "fbd2b04a",
   "metadata": {},
   "source": [
    "So even though some variables are corelated to potability, not all variables are, so we can reject the null hypothesis that all variables have a strong impact on the potability of water. "
   ]
  },
  {
   "cell_type": "markdown",
   "id": "b01b8230",
   "metadata": {},
   "source": [
    "# Step 4: ML "
   ]
  },
  {
   "cell_type": "code",
   "execution_count": 171,
   "id": "e8ef1265",
   "metadata": {},
   "outputs": [],
   "source": [
    "from sklearn import tree\n",
    "from sklearn.model_selection import train_test_split\n",
    "from sklearn.model_selection import cross_val_score\n",
    "from sklearn.metrics import plot_confusion_matrix\n",
    "from sklearn.metrics import confusion_matrix\n",
    "from sklearn.neighbors import KNeighborsClassifier\n",
    "from sklearn import metrics"
   ]
  },
  {
   "cell_type": "markdown",
   "id": "5ff8cc6e",
   "metadata": {},
   "source": [
    "We need to determine what features will be the best to use for our classifiers"
   ]
  },
  {
   "cell_type": "code",
   "execution_count": 172,
   "id": "cbde32ce",
   "metadata": {},
   "outputs": [],
   "source": [
    "# using hold out validation and holding out 25% of the training set for testing so training on 75%"
   ]
  },
  {
   "cell_type": "code",
   "execution_count": 183,
   "id": "39a94624",
   "metadata": {},
   "outputs": [],
   "source": [
    "X = df[['ph', 'Hardness', 'Sulfate']] # dropping potability columns since that's what we want our model to predict\n",
    "y = df['Potability']\n",
    "X_train, X_test, y_train, y_test = train_test_split(X, y, test_size=0.25,random_state=0)"
   ]
  },
  {
   "cell_type": "code",
   "execution_count": 184,
   "id": "382e1867",
   "metadata": {},
   "outputs": [
    {
     "data": {
      "text/plain": [
       "0.6640159045725647"
      ]
     },
     "execution_count": 184,
     "metadata": {},
     "output_type": "execute_result"
    }
   ],
   "source": [
    "# decision trees\n",
    "clf = tree.DecisionTreeClassifier(max_depth=4)\n",
    "clf = clf.fit(X_train, y_train)\n",
    "clf.score(X_test, y_test)"
   ]
  },
  {
   "cell_type": "code",
   "execution_count": 185,
   "id": "a155f92e",
   "metadata": {},
   "outputs": [
    {
     "name": "stderr",
     "output_type": "stream",
     "text": [
      "/Users/riyakukadia/opt/anaconda3/lib/python3.9/site-packages/sklearn/utils/deprecation.py:87: FutureWarning: Function plot_confusion_matrix is deprecated; Function `plot_confusion_matrix` is deprecated in 1.0 and will be removed in 1.2. Use one of the class methods: ConfusionMatrixDisplay.from_predictions or ConfusionMatrixDisplay.from_estimator.\n",
      "  warnings.warn(msg, category=FutureWarning)\n"
     ]
    },
    {
     "data": {
      "image/png": "[encoded data removed]",
      "text/plain": [
       "<Figure size 432x288 with 2 Axes>"
      ]
     },
     "metadata": {
      "needs_background": "dark"
     },
     "output_type": "display_data"
    }
   ],
   "source": [
    "from sklearn.metrics import confusion_matrix\n",
    " \n",
    "cm = confusion_matrix(y_test,y_pred)\n",
    "color = 'white'\n",
    "matrix = plot_confusion_matrix(knn, X_test, y_test, cmap=plt.cm.Blues)\n",
    "matrix.ax_.set_title('Confusion Matrix', color=color)\n",
    "plt.xlabel('Predicted Label', color=color)\n",
    "plt.ylabel('True Label', color=color)\n",
    "plt.gcf().axes[0].tick_params(colors=color)\n",
    "plt.gcf().axes[1].tick_params(colors=color)"
   ]
  },
  {
   "cell_type": "code",
   "execution_count": 186,
   "id": "7ad85303",
   "metadata": {},
   "outputs": [
    {
     "data": {
      "text/plain": [
       "0.5725646123260437"
      ]
     },
     "execution_count": 186,
     "metadata": {},
     "output_type": "execute_result"
    }
   ],
   "source": [
    "# KNN \n",
    "knn = KNeighborsClassifier(n_neighbors=3)\n",
    "X_train, X_test, y_train, y_test = train_test_split(X, y, test_size=0.25)\n",
    "knn.fit(X_train, y_train)\n",
    "y_pred = knn.predict(X_test)\n",
    "metrics.accuracy_score(y_test, y_pred)"
   ]
  },
  {
   "cell_type": "code",
   "execution_count": 187,
   "id": "38f7ceb1",
   "metadata": {},
   "outputs": [
    {
     "name": "stderr",
     "output_type": "stream",
     "text": [
      "/Users/riyakukadia/opt/anaconda3/lib/python3.9/site-packages/sklearn/utils/deprecation.py:87: FutureWarning: Function plot_confusion_matrix is deprecated; Function `plot_confusion_matrix` is deprecated in 1.0 and will be removed in 1.2. Use one of the class methods: ConfusionMatrixDisplay.from_predictions or ConfusionMatrixDisplay.from_estimator.\n",
      "  warnings.warn(msg, category=FutureWarning)\n"
     ]
    },
    {
     "data": {
      "image/png": "[encoded data removed]",
      "text/plain": [
       "<Figure size 432x288 with 2 Axes>"
      ]
     },
     "metadata": {
      "needs_background": "dark"
     },
     "output_type": "display_data"
    }
   ],
   "source": [
    "from sklearn.metrics import confusion_matrix\n",
    " \n",
    "cm = confusion_matrix(y_test,y_pred)\n",
    "color = 'white'\n",
    "matrix = plot_confusion_matrix(knn, X_test, y_test, cmap=plt.cm.Blues)\n",
    "matrix.ax_.set_title('Confusion Matrix', color=color)\n",
    "plt.xlabel('Predicted Label', color=color)\n",
    "plt.ylabel('True Label', color=color)\n",
    "plt.gcf().axes[0].tick_params(colors=color)\n",
    "plt.gcf().axes[1].tick_params(colors=color)"
   ]
  },
  {
   "cell_type": "code",
   "execution_count": null,
   "id": "dd6a49db",
   "metadata": {},
   "outputs": [],
   "source": []
  }
 ],
 "metadata": {
  "kernelspec": {
   "display_name": "Python 3 (ipykernel)",
   "language": "python",
   "name": "python3"
  },
  "language_info": {
   "codemirror_mode": {
    "name": "ipython",
    "version": 3
   },
   "file_extension": ".py",
   "mimetype": "text/x-python",
   "name": "python",
   "nbconvert_exporter": "python",
   "pygments_lexer": "ipython3",
   "version": "3.9.12"
  }
 },
 "nbformat": 4,
 "nbformat_minor": 5
}
